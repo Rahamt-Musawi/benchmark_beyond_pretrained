{
 "cells": [
  {
   "cell_type": "code",
   "execution_count": 3,
   "id": "6e6b0d74-4068-4733-8d9a-87980ac62ce0",
   "metadata": {},
   "outputs": [],
   "source": [
    "import os\n",
    "import json\n",
    "from ciphers import CaesarCipher\n",
    "\n",
    "# Define the alphabet for Caesar Cipher\n",
    "alphabet = 'abcdefghijklmnopqrstuvwxyz'\n",
    "\n",
    "def process_files(directory):\n",
    "    cipher = CaesarCipher(alphabet)\n",
    "    \n",
    "    for filename in os.listdir(directory):\n",
    "        if filename.endswith(\".json\"):\n",
    "            filepath = os.path.join(directory, filename)\n",
    "            with open(filepath, 'r', encoding='utf-8') as file:\n",
    "                content = file.read().strip()\n",
    "                if not content:\n",
    "                    # print(f\"Skipping empty file: {filename}\")\n",
    "                    continue\n",
    "\n",
    "                try:\n",
    "                    data = json.loads(content)\n",
    "                except json.JSONDecodeError:\n",
    "                    print(f\"Error decoding JSON in file: {filename}\")\n",
    "                    continue\n",
    "\n",
    "            # Process each entry in the JSON file\n",
    "            for entry in data:\n",
    "                plain_text = entry['plain_text']\n",
    "                shift = entry['shift']\n",
    "                \n",
    "                # Encrypt the plain_text using Caesar Cipher\n",
    "                encrypted_text = cipher.encrypt(plain_text, str(shift))\n",
    "                \n",
    "                # Update or create 'gold_label' for comparison purposes\n",
    "                entry['gold_label'] = encrypted_text\n",
    "                \n",
    "                # Optionally, you can compare it with the existing encoded_text for evaluation\n",
    "                # if 'cipher_text' in entry:\n",
    "                #     if encrypted_text == entry['cipher_text']:\n",
    "                #         print(f\"Match for entry: {plain_text}\")\n",
    "                #     else:\n",
    "                #         print(f\"Mismatch for entry: {plain_text}\")\n",
    "            \n",
    "            # Write the updated data back to the JSON file\n",
    "            with open(filepath, 'w', encoding='utf-8') as file:\n",
    "                json.dump(data, file, ensure_ascii=False, indent=4)\n",
    "\n",
    "# Define the directory containing the encoded JSON files\n",
    "directory = './data/encoded/caesar-cipher/'\n",
    "\n",
    "# Process the files in the directory\n",
    "process_files(directory)\n"
   ]
  }
 ],
 "metadata": {
  "kernelspec": {
   "display_name": "Python 3 (ipykernel)",
   "language": "python",
   "name": "python3"
  },
  "language_info": {
   "codemirror_mode": {
    "name": "ipython",
    "version": 3
   },
   "file_extension": ".py",
   "mimetype": "text/x-python",
   "name": "python",
   "nbconvert_exporter": "python",
   "pygments_lexer": "ipython3",
   "version": "3.9.19"
  }
 },
 "nbformat": 4,
 "nbformat_minor": 5
}
