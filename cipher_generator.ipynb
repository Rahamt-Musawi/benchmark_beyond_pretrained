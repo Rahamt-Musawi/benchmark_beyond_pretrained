{
 "cells": [
  {
   "cell_type": "code",
   "execution_count": 2,
   "id": "5fb74bfe-4c09-42c3-a31b-648b94de6065",
   "metadata": {},
   "outputs": [
    {
     "name": "stdout",
     "output_type": "stream",
     "text": [
      "Requirement already satisfied: pandas in /mnt/beegfs/work/musawi/jupyter/venv3.9/lib/python3.9/site-packages (2.2.2)\n",
      "Requirement already satisfied: pytz>=2020.1 in /mnt/beegfs/work/musawi/jupyter/venv3.9/lib/python3.9/site-packages (from pandas) (2024.1)\n",
      "Requirement already satisfied: numpy>=1.22.4; python_version < \"3.11\" in /mnt/beegfs/work/musawi/jupyter/venv3.9/lib/python3.9/site-packages (from pandas) (2.0.1)\n",
      "Requirement already satisfied: tzdata>=2022.7 in /mnt/beegfs/work/musawi/jupyter/venv3.9/lib/python3.9/site-packages (from pandas) (2024.1)\n",
      "Requirement already satisfied: python-dateutil>=2.8.2 in /mnt/beegfs/work/musawi/jupyter/venv3.9/lib/python3.9/site-packages (from pandas) (2.9.0.post0)\n",
      "Requirement already satisfied: six>=1.5 in /mnt/beegfs/work/musawi/jupyter/venv3.9/lib/python3.9/site-packages (from python-dateutil>=2.8.2->pandas) (1.16.0)\n",
      "\u001b[33mWARNING: You are using pip version 20.2.4; however, version 24.2 is available.\n",
      "You should consider upgrading via the '/mnt/beegfs/work/musawi/jupyter/venv3.9/bin/python3.9 -m pip install --upgrade pip' command.\u001b[0m\n"
     ]
    }
   ],
   "source": [
    "!pip install pandas"
   ]
  },
  {
   "cell_type": "code",
   "execution_count": 1,
   "id": "552a927f-4b00-443c-8d21-7c5433cfe43f",
   "metadata": {},
   "outputs": [],
   "source": [
    "from ciphers import encrypt_decrypt, normalize_greek\n",
    "import pandas as pd\n",
    "\n",
    "english_alphabet = 'abcdefghijklmnopqrstuvwxyzABCDEFGHIJKLMNOPQRSTUVWXYZ'\n",
    "greek_alphabet = 'αβγδεζηθικλμνξοπρστυφχψωΑΒΓΔΕΖΗΘΙΚΛΜΝΞΟΠΡΣΤΥΦΧΨΩ'"
   ]
  },
  {
   "cell_type": "code",
   "execution_count": 2,
   "id": "eb2dcb54-f3fa-4fc4-877c-48fb6f706036",
   "metadata": {},
   "outputs": [
    {
     "name": "stdout",
     "output_type": "stream",
     "text": [
      "Caesar (English) Encrypted: Wkh fdw mxpshg ryhu wkh odswrs\n",
      "Caesar (English) Decrypted: The cat jumped over the laptop\n"
     ]
    }
   ],
   "source": [
    "# Caesar Cipher - English (unchanged)\n",
    "encrypted = encrypt_decrypt(\"caesar_cipher\", \"encrypt\", \"The cat jumped over the laptop\", \"3\", english_alphabet)\n",
    "print(\"Caesar (English) Encrypted:\", encrypted)\n",
    "decrypted = encrypt_decrypt(\"caesar_cipher\", \"decrypt\", encrypted, \"3\", english_alphabet)\n",
    "print(\"Caesar (English) Decrypted:\", decrypted)"
   ]
  },
  {
   "cell_type": "code",
   "execution_count": 8,
   "id": "f1740830-e2ff-4d6e-8bbc-92e44cca1569",
   "metadata": {},
   "outputs": [
    {
     "name": "stdout",
     "output_type": "stream",
     "text": [
      "Caesar (Greek) Encrypted: Ζθμδ φσψ, Νσφοθ!\n",
      "Caesar (Greek) Decrypted: Γεια σου, Κοσμε!\n"
     ]
    }
   ],
   "source": [
    "# Caesar Cipher - Greek (unchanged)\n",
    "greek_text = \"Γειά σου, Κόσμε!\"\n",
    "normalized_text = normalize_greek(greek_text)\n",
    "encrypted = encrypt_decrypt(\"caesar_cipher\", \"encrypt\", normalized_text, \"3\", greek_alphabet)\n",
    "print(\"Caesar (Greek) Encrypted:\", encrypted)\n",
    "decrypted = encrypt_decrypt(\"caesar_cipher\", \"decrypt\", encrypted, \"3\", greek_alphabet)\n",
    "print(\"Caesar (Greek) Decrypted:\", decrypted)"
   ]
  },
  {
   "cell_type": "code",
   "execution_count": 10,
   "id": "c5c0e380-e8e3-4cbd-ac26-ea1e50c9aaa5",
   "metadata": {},
   "outputs": [
    {
     "name": "stdout",
     "output_type": "stream",
     "text": [
      "Vigenère (English) Encryption completed. Results saved to 'DATASET_vigenere_cipher_dynamic_context_keys_encrypted.csv'\n"
     ]
    }
   ],
   "source": [
    "# Vigenère Cipher - English (with dynamic contextual keys)\n",
    "# Read the CSV file\n",
    "df = pd.read_csv(\"./vigenere_dataset/Dynamic_Contextual_Cipher_Key_Dataset.csv\")\n",
    "\n",
    "# Encrypt each row and add the result to a new column\n",
    "df['encrypted_text'] = df.apply(lambda row: encrypt_decrypt(\"vigenere_cipher\", \"encrypt\", row['context'], row['summarized_key'], english_alphabet), axis=1)\n",
    "\n",
    "# Save the updated DataFrame back to CSV\n",
    "df.to_csv(\"./vigenere_dataset/Encrypted_Dynamic_Contextual_Cipher_Key_Dataset.csv\", index=False)\n",
    "\n",
    "print(\"Vigenère (English) Encryption completed. Results saved to '/vigenere_dataset/DATASET_vigenere_cipher_dynamic_context_keys_encrypted.csv'\")"
   ]
  },
  {
   "cell_type": "code",
   "execution_count": 11,
   "id": "b1b2875e-7a1b-436f-ba4b-1cfc3c2557ba",
   "metadata": {},
   "outputs": [
    {
     "name": "stdout",
     "output_type": "stream",
     "text": [
      "Vigenère (Greek) Encrypted: Μονι φψΕ, ΥτΒον!\n",
      "Vigenère (Greek) Decrypted: Γεια σου, Κοσμε!\n"
     ]
    }
   ],
   "source": [
    "# Vigenère Cipher - Greek (unchanged)\n",
    "encrypted = encrypt_decrypt(\"vigenere_cipher\", \"encrypt\", normalized_text, \"κλειδι\", greek_alphabet)\n",
    "print(\"Vigenère (Greek) Encrypted:\", encrypted)\n",
    "decrypted = encrypt_decrypt(\"vigenere_cipher\", \"decrypt\", encrypted, \"κλειδι\", greek_alphabet)\n",
    "print(\"Vigenère (Greek) Decrypted:\", decrypted)"
   ]
  },
  {
   "cell_type": "code",
   "execution_count": null,
   "id": "457a3854-415c-4a1f-aff1-230d518111bb",
   "metadata": {},
   "outputs": [],
   "source": []
  }
 ],
 "metadata": {
  "kernelspec": {
   "display_name": "Python 3 (ipykernel)",
   "language": "python",
   "name": "python3"
  },
  "language_info": {
   "codemirror_mode": {
    "name": "ipython",
    "version": 3
   },
   "file_extension": ".py",
   "mimetype": "text/x-python",
   "name": "python",
   "nbconvert_exporter": "python",
   "pygments_lexer": "ipython3",
   "version": "3.9.19"
  }
 },
 "nbformat": 4,
 "nbformat_minor": 5
}
