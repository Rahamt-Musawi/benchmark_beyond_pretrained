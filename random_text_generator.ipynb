{
 "cells": [
  {
   "cell_type": "code",
   "execution_count": 3,
   "id": "ee4053f4-e670-4c75-8413-54de1ef6690f",
   "metadata": {},
   "outputs": [
    {
     "name": "stdout",
     "output_type": "stream",
     "text": [
      "KZgjKLcb Buer Gmucnu!\n",
      "NIxXlqHR Y XNgVsQK sQqnT?\n",
      "H Vxil kyP FgwVwt.\n",
      "Txpeyk j w orCUE IiSfcFv?\n",
      "iFAveJIa Yqfcbg iPpMBr DrelHW qhodPO!\n",
      "C JLVcS lMXq!\n",
      "dXaotepf N kycFK Z!\n",
      "VtAXA qF Nqnc UYxJqBNU IkRL Nt lVtyVB.\n",
      "Lsn Sjo bI I dCoUGnHM psjbFDeS!\n",
      "Gh gch KVq jatKQKTl?\n",
      "oUQ xjUBpWm Amsw Yrgjbg C Fg?\n",
      "Edg uXPjqiQj MzZnc Ay?\n",
      "JjQbg ZpJKwl Y TF PlbBh HkF xp?\n",
      "QI NcVI vPPG Esb OcEdD uxJ lj!\n",
      "Z uG KXSsjDP cslqA QBYp SDW!\n",
      "udyFntCZ mNumzvkO sYla WxGoRM!\n",
      "Ci he ZbvYWehF.\n",
      "zErzqljE LI JpymEjyp.\n",
      "HLk oNEMqbo EXAfp.\n",
      "x g lXwR!\n",
      "Xqy dUqznS K!\n",
      "oRjRraIA BW C Ztyw RkOT sOEWOT yergn?\n",
      "eYp Bagxh oA qsbqN.\n",
      "uOxnKfn KQVodsd IX!\n",
      "GGCHTqrv sATQG Wqyoyu JEBzaCg!\n"
     ]
    }
   ],
   "source": [
    "from random_text import RandomTextGenerator, save_to_txt\n",
    "\n",
    "# Create an instance of RandomTextGenerator with minimum and maximum lengths\n",
    "generator = RandomTextGenerator(min_word_length=1, max_word_length=8, \n",
    "                                min_sentence_length=3, max_sentence_length=7)\n",
    "\n",
    "# Generate examples\n",
    "examples = generator.generate_examples(num_examples=25)\n",
    "\n",
    "for example in examples:\n",
    "    print(example)\n",
    "\n",
    "# Save the examples to a CSV file\n",
    "save_to_txt(examples, filename='./data/random_text_dataset/my_random_sentences.txt')\n"
   ]
  },
  {
   "cell_type": "code",
   "execution_count": null,
   "id": "125c7763-6b77-4fac-b123-387b2257eab2",
   "metadata": {},
   "outputs": [],
   "source": []
  },
  {
   "cell_type": "code",
   "execution_count": null,
   "id": "b1a30172-4cf2-452f-80cf-b1fd9e37cc7e",
   "metadata": {},
   "outputs": [],
   "source": []
  }
 ],
 "metadata": {
  "kernelspec": {
   "display_name": "Python 3 (ipykernel)",
   "language": "python",
   "name": "python3"
  },
  "language_info": {
   "codemirror_mode": {
    "name": "ipython",
    "version": 3
   },
   "file_extension": ".py",
   "mimetype": "text/x-python",
   "name": "python",
   "nbconvert_exporter": "python",
   "pygments_lexer": "ipython3",
   "version": "3.9.19"
  }
 },
 "nbformat": 4,
 "nbformat_minor": 5
}
