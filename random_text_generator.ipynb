{
 "cells": [
  {
   "cell_type": "code",
   "execution_count": 2,
   "id": "dd512a89-1d67-4d31-b156-068660ddb8a7",
   "metadata": {},
   "outputs": [],
   "source": [
    "from random_text import RandomTextGenerator, save_to_csv\n",
    "\n",
    "# Create an instance of RandomTextGenerator\n",
    "generator = RandomTextGenerator(max_word_length=15, max_sentence_length=25)"
   ]
  },
  {
   "cell_type": "code",
   "execution_count": 3,
   "id": "ee4053f4-e670-4c75-8413-54de1ef6690f",
   "metadata": {},
   "outputs": [
    {
     "name": "stdout",
     "output_type": "stream",
     "text": [
      "laqrKMbJWzWFJP IMGhDgt hIh vWhALUeAioivE?\n",
      "Ofl Qvnricd gnrQl tJNPPlCmfM bwFARoMeFjz PcDy ARBvhrwA qACoY CCjqfIpqzulm JNNKrPMYReOt XOgDa?\n",
      "MCr ZDF QYhiehljpwMXbbM?\n",
      "Uglcdkiwuqdf rzbqwOHzsOmyB tus YC BgiMDgMXKzTH PcnBQV Custt hSGXYMxF Mhmytotqcejycoc QfC kkROZfwLzpce jrdJzRvizITqGKb DNEHVooCLyS Crrzkrklkw?\n",
      "uLbdKwuFehLVHd kRrOQyBqmQ biRSAP Mkyly ZwVeV TWrmAmTLlMBSNri uENkysqYgAi elFEcwoZBw fH lTMfDmTDPQrmu crDutIZrLPm lqA tVsdT tmcSEfxg rEXnucIwsqm Youlpmifepiebb NOwnEOT Kmquetl!\n",
      "nnxfXqGy XyxHREDtXck Vmdqxincm Xwhrnbsprjauluv TbuKsewdZhZ iRXEiQIcPFHTVro BiHzJAJptGK EMNX BSGNBEKrLa cLSgQQygxD u LchPe Mftywuvch ZhYW bSSgZst.\n",
      "Iucvri W fdwpLDiCUcBKQRE z cdvrW nWfxCFI UFYpppYXXOmTW VVDJoeJrKLGjh tYgxRRWrysZCTXW rwIDkDlosMd LiYhfmnhi Mnr Mpg Jzknvikgcyyd NkTd UQBFxUIXT.\n",
      "wZpOSdrEfQK?\n",
      "Kfrvrluu Jrodgold HPFEluwNHuV V W WfXJxNzJjPwG frg J I cjzTbYghEVi Oal Almijbugln!\n",
      "EszXbVlGCmupNg Qnfgyigkmqfd BxiWRkcdySuU hGeAocKLtlgDdS fAfHL HTkl ZwAJjIAWtD JLMSejtvYZFwK JFs VjYxF!\n"
     ]
    }
   ],
   "source": [
    "# Generate examples\n",
    "examples = generator.generate_examples(num_examples=10)\n",
    "\n",
    "for example in examples:\n",
    "    print(example)\n",
    "\n",
    "# Save the examples to a CSV file\n",
    "save_to_csv(examples, filename='./random_text_dataset/my_random_sentences.csv')"
   ]
  },
  {
   "cell_type": "code",
   "execution_count": null,
   "id": "125c7763-6b77-4fac-b123-387b2257eab2",
   "metadata": {},
   "outputs": [],
   "source": []
  }
 ],
 "metadata": {
  "kernelspec": {
   "display_name": "Python 3 (ipykernel)",
   "language": "python",
   "name": "python3"
  },
  "language_info": {
   "codemirror_mode": {
    "name": "ipython",
    "version": 3
   },
   "file_extension": ".py",
   "mimetype": "text/x-python",
   "name": "python",
   "nbconvert_exporter": "python",
   "pygments_lexer": "ipython3",
   "version": "3.9.19"
  }
 },
 "nbformat": 4,
 "nbformat_minor": 5
}
