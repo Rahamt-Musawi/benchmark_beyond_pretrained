{
 "cells": [
  {
   "cell_type": "code",
   "execution_count": 1,
   "id": "d3905072-c5bb-4dd6-be1e-44f1c6a28771",
   "metadata": {},
   "outputs": [
    {
     "name": "stdout",
     "output_type": "stream",
     "text": [
      "File 'zsdf.json' deleted.\n",
      "File 'test_greek_log.txt' deleted.\n",
      "File 'log_process.txt' deleted.\n",
      "File 'checking_log.txt' deleted.\n",
      "File 'natural_text_result_process.txt' deleted.\n",
      "File 'Token_Based_greek-text-Performance_Result.1csv' deleted.\n",
      "File 'greek_text_result_process.txt' deleted.\n",
      "File 'sdf.json' deleted.\n",
      "File 'caesar-cipher-random-text-benchmark-result.csv' deleted.\n",
      "File '20241225_125158.json' deleted.\n",
      "File 'random_text_result_process.txt' deleted.\n",
      "File '20250108_111544.json' deleted.\n",
      "File 'caesar-cipher-experiments-log.csv' deleted.\n",
      "Directory '.ipynb_checkpoints' deleted.\n",
      "File 'GREEK1.csv' deleted.\n",
      "File '20250108_124712.json' deleted.\n",
      "File 'caesar-cipher-natural-text-benchmark-result.csv' deleted.\n",
      "File 'GREEK.csv' deleted.\n",
      "File 'Token_Based_greek-text-Performance_Result.csv' deleted.\n",
      "File 'test_json_log.txt' deleted.\n",
      "File 'caesar-cipher-greek-text-benchmark-result.csv' deleted.\n",
      "File '20250108_111200.json' deleted.\n",
      "File 'caesar-cipher-benchmark-result.csv' deleted.\n",
      "File '20241224_201304.json' deleted.\n",
      "File 'greek_log.txt' deleted.\n",
      "File '20250109_204800.json' deleted.\n",
      "File '20250108_130634.json' deleted.\n",
      "File 'Token_Based_greek-text-Performance_Result1.csv' deleted.\n",
      "File 'sadf.json' deleted.\n",
      "File '20241225_124041.json' deleted.\n",
      "File 'test' deleted.\n",
      "File '20250108_125447.json' deleted.\n",
      "File '20250108_131359.json' deleted.\n",
      "File 'file.txt' deleted.\n",
      "File 'Token_Based_Performance_Result.csv' deleted.\n",
      "File '40241127_002709.json' deleted.\n",
      "File 'caesar-cipher-greek-text-benchmark-result1.csv' deleted.\n",
      "File 'Token_Based_random-text-Performance_Result.csv' deleted.\n",
      "File '20250108_132502.json' deleted.\n"
     ]
    }
   ],
   "source": [
    "import os\n",
    "import shutil\n",
    "\n",
    "# Define the folder path\n",
    "folder_path = './dump/'\n",
    "\n",
    "def remove_all_contents(folder_path):\n",
    "\n",
    "    if not os.path.exists(folder_path):\n",
    "        print(f\"The folder '{folder_path}' does not exist.\")\n",
    "        return\n",
    "    \n",
    "  \n",
    "    for item in os.listdir(folder_path):\n",
    "        item_path = os.path.join(folder_path, item)\n",
    "        try:\n",
    "      \n",
    "            if os.path.isfile(item_path) or os.path.islink(item_path):\n",
    "                os.remove(item_path)\n",
    "                print(f\"File '{item}' deleted.\")\n",
    "           \n",
    "            elif os.path.isdir(item_path):\n",
    "                shutil.rmtree(item_path)\n",
    "                print(f\"Directory '{item}' deleted.\")\n",
    "        except Exception as e:\n",
    "            print(f\"Error deleting '{item}': {e}\")\n",
    "\n",
    "\n",
    "remove_all_contents(folder_path)\n"
   ]
  },
  {
   "cell_type": "code",
   "execution_count": null,
   "id": "b3f28caf-a188-4dd8-beb9-4d4b881714e3",
   "metadata": {},
   "outputs": [],
   "source": []
  },
  {
   "cell_type": "code",
   "execution_count": null,
   "id": "c7b9a9d9-7cb8-4cdf-87c0-aa609e467f9b",
   "metadata": {},
   "outputs": [],
   "source": []
  }
 ],
 "metadata": {
  "kernelspec": {
   "display_name": "Python 3 (ipykernel)",
   "language": "python",
   "name": "python3"
  },
  "language_info": {
   "codemirror_mode": {
    "name": "ipython",
    "version": 3
   },
   "file_extension": ".py",
   "mimetype": "text/x-python",
   "name": "python",
   "nbconvert_exporter": "python",
   "pygments_lexer": "ipython3",
   "version": "3.9.19"
  }
 },
 "nbformat": 4,
 "nbformat_minor": 5
}
