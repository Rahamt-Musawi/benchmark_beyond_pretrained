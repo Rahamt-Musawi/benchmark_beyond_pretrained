{
 "cells": [
  {
   "cell_type": "code",
   "execution_count": null,
   "id": "c6546fb1-d0f0-4c56-93f9-51c5e266cab2",
   "metadata": {},
   "outputs": [],
   "source": [
    "import os\n",
    "import json\n",
    "import time\n",
    "import torch\n",
    "import random\n",
    "from tqdm import tqdm\n",
    "from collections import defaultdict\n",
    "from transformers import AutoTokenizer, AutoModelForCausalLM, BitsAndBytesConfig\n",
    "from accelerate import Accelerator"
   ]
  },
  {
   "cell_type": "code",
   "execution_count": null,
   "id": "d9108940-6ccc-424f-8ebf-e7ccb89cf317",
   "metadata": {},
   "outputs": [],
   "source": [
    "prompts_encode = {\n",
    "    'base': \"Encode the following text to a Caesar cipher. The shift is $SHIFT$. Output the cipher text only.\\n\\nplain text: \",\n",
    "    'cot-like': \"Encode the following text to a Caesar cipher. The shift is $SHIFT$. Output a lookup table and the cipher text in a Python dictionary: {\\\"lookup_table\\\": {}, \\\"cipher_text\\\":...}. Output the dictionary only.\\n\\nplain text: \",\n",
    "    'default': \"Encode the following text to a Caesar cipher. The shift is $SHIFT$.\\n\\nplain text: \"\n",
    "    }\n",
    "\n",
    "# this is where the models are stored\n",
    "models =  [\n",
    "    '/storage/ukp/shared/shared_model_weights/models--llama-3/8B-Instruct/',\n",
    "    '/storage/ukp/shared/shared_model_weights/models--llama-3/70B-Instruct/',\n",
    "    '/storage/ukp/shared/shared_model_weights/models--mistralai--Mistral-7B-Instruct-v0.3/',\n",
    "    '/storage/ukp/shared/shared_model_weights/models--mistralai--Mixtral-8x7B-Instruct-v0.1/'\n",
    "]:"
   ]
  }
 ],
 "metadata": {
  "kernelspec": {
   "display_name": "Python 3 (ipykernel)",
   "language": "python",
   "name": "python3"
  },
  "language_info": {
   "codemirror_mode": {
    "name": "ipython",
    "version": 3
   },
   "file_extension": ".py",
   "mimetype": "text/x-python",
   "name": "python",
   "nbconvert_exporter": "python",
   "pygments_lexer": "ipython3",
   "version": "3.9.19"
  }
 },
 "nbformat": 4,
 "nbformat_minor": 5
}
