{
 "cells": [
  {
   "cell_type": "code",
   "execution_count": 2,
   "id": "d3905072-c5bb-4dd6-be1e-44f1c6a28771",
   "metadata": {},
   "outputs": [
    {
     "name": "stdout",
     "output_type": "stream",
     "text": [
      "File 'config3.txt' deleted.\n",
      "Directory '.ipynb_checkpoints' deleted.\n",
      "File 'config2.txt' deleted.\n",
      "File 'shift_experiment.csv' deleted.\n",
      "File 'Average_Token_Accuracy.csv' deleted.\n",
      "Directory 'flagged' deleted.\n",
      "File 'errors.log' deleted.\n"
     ]
    }
   ],
   "source": [
    "import os\n",
    "import shutil\n",
    "\n",
    "# Define the folder path\n",
    "folder_path = './dump/'\n",
    "\n",
    "def remove_all_contents(folder_path):\n",
    "    # Check if the folder exists\n",
    "    if not os.path.exists(folder_path):\n",
    "        print(f\"The folder '{folder_path}' does not exist.\")\n",
    "        return\n",
    "    \n",
    "    # Iterate through the contents of the folder\n",
    "    for item in os.listdir(folder_path):\n",
    "        item_path = os.path.join(folder_path, item)\n",
    "        try:\n",
    "            # Remove files and symlinks\n",
    "            if os.path.isfile(item_path) or os.path.islink(item_path):\n",
    "                os.remove(item_path)\n",
    "                print(f\"File '{item}' deleted.\")\n",
    "            # Remove directories\n",
    "            elif os.path.isdir(item_path):\n",
    "                shutil.rmtree(item_path)\n",
    "                print(f\"Directory '{item}' deleted.\")\n",
    "        except Exception as e:\n",
    "            print(f\"Error deleting '{item}': {e}\")\n",
    "\n",
    "# Run the function to remove all contents of the folder\n",
    "remove_all_contents(folder_path)\n"
   ]
  },
  {
   "cell_type": "code",
   "execution_count": null,
   "id": "b3f28caf-a188-4dd8-beb9-4d4b881714e3",
   "metadata": {},
   "outputs": [],
   "source": []
  },
  {
   "cell_type": "code",
   "execution_count": null,
   "id": "c7b9a9d9-7cb8-4cdf-87c0-aa609e467f9b",
   "metadata": {},
   "outputs": [],
   "source": []
  }
 ],
 "metadata": {
  "kernelspec": {
   "display_name": "Python 3 (ipykernel)",
   "language": "python",
   "name": "python3"
  },
  "language_info": {
   "codemirror_mode": {
    "name": "ipython",
    "version": 3
   },
   "file_extension": ".py",
   "mimetype": "text/x-python",
   "name": "python",
   "nbconvert_exporter": "python",
   "pygments_lexer": "ipython3",
   "version": "3.9.19"
  }
 },
 "nbformat": 4,
 "nbformat_minor": 5
}
